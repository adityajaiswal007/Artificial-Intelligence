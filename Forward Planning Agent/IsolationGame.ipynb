{
 "cells": [
  {
   "cell_type": "code",
   "execution_count": 135,
   "metadata": {},
   "outputs": [],
   "source": [
    "xlim,ylim = 3,2\n",
    "import copy\n",
    "class GameState:\n",
    "    def __init__(self):\n",
    "        \"\"\"\n",
    "        Attributes\n",
    "        ----------\n",
    "        _parity: bool\n",
    "            keep track of player turn.\n",
    "        \n",
    "        _player_loc: list(tuple)\n",
    "            keep track of player current position\n",
    "            \n",
    "        _board: list(list)\n",
    "            Board representation\n",
    "        \"\"\"\n",
    "        self._parity = 0\n",
    "        self._player_location = [None,None]\n",
    "        self._board = [[0]*ylim for _ in range(xlim)]\n",
    "        self._board[-1][-1] = 1\n",
    "    \n",
    "    \n",
    "    def get_legal_moves(self):\n",
    "        \"\"\"\n",
    "        Return a list of all legal moves available for current player.\n",
    "        \"\"\"\n",
    "        loc = self._player_location[self._parity]\n",
    "        if not loc:\n",
    "            return self._get_blank_spaces()\n",
    "        moves = []\n",
    "        path = [(-1,-1),(-1,0),(-1,1),(0,-1),\n",
    "                (0,1),(1,-1),(1,0),(1,1)]\n",
    "        for i,j in path:\n",
    "            x,y = loc\n",
    "            while 0 <= x+i < xlim and 0 <= y+j < ylim:\n",
    "                x,y = x+i,y+j\n",
    "                if self._board[x][y]:\n",
    "                    break\n",
    "                moves.append((x,y))\n",
    "        return moves\n",
    "        \n",
    "    \n",
    "    def _get_blank_spaces(self):\n",
    "        \"\"\"\n",
    "        Return a list of blank spaces.\n",
    "        \"\"\"\n",
    "        return [(x,y) for x in range(xlim) for y in range(ylim) \n",
    "                if self._board[x][y] == 0]\n",
    "        \n",
    "        \n",
    "    def forecast_move(self,move):\n",
    "        \"\"\"\n",
    "        Return a new board with specified move applied to the current player\n",
    "        \n",
    "        Parameters\n",
    "        ----------\n",
    "        move: tuple\n",
    "            The target position player want to move.\n",
    "        \"\"\"\n",
    "        if move not in self.get_legal_moves():\n",
    "            raise RuntimeError(\"illegal move\")\n",
    "        newBoard = copy.deepcopy(self)\n",
    "        newBoard._board[move[0]][move[1]] = 1\n",
    "        newBoard._player_location[self._parity] = move\n",
    "        newBoard._parity ^= 1\n",
    "        return newBoard"
   ]
  },
  {
   "cell_type": "code",
   "execution_count": 136,
   "metadata": {},
   "outputs": [
    {
     "name": "stdout",
     "output_type": "stream",
     "text": [
      "Creating empty game board...\n"
     ]
    }
   ],
   "source": [
    "print(\"Creating empty game board...\")\n",
    "g = GameState()\n"
   ]
  },
  {
   "cell_type": "code",
   "execution_count": 137,
   "metadata": {},
   "outputs": [
    {
     "name": "stdout",
     "output_type": "stream",
     "text": [
      "Getting legal moves for player 1...\n"
     ]
    }
   ],
   "source": [
    "print(\"Getting legal moves for player 1...\")\n",
    "p1_empty_moves = g.get_legal_moves()\n"
   ]
  },
  {
   "cell_type": "code",
   "execution_count": 138,
   "metadata": {},
   "outputs": [
    {
     "name": "stdout",
     "output_type": "stream",
     "text": [
      "Found 5 legal moves.\n"
     ]
    }
   ],
   "source": [
    "print(\"Found {} legal moves.\".format(len(p1_empty_moves or [])))"
   ]
  },
  {
   "cell_type": "code",
   "execution_count": 139,
   "metadata": {},
   "outputs": [
    {
     "name": "stdout",
     "output_type": "stream",
     "text": [
      "Applying move (0, 0) for player 1...\n"
     ]
    }
   ],
   "source": [
    "print(\"Applying move (0, 0) for player 1...\")\n",
    "g1 = g.forecast_move((0, 0))"
   ]
  },
  {
   "cell_type": "code",
   "execution_count": 140,
   "metadata": {},
   "outputs": [],
   "source": [
    "xlim, ylim = 3, 2  # board dimensions\n",
    "import copy\n",
    "class GameState1:\n",
    "    \"\"\"\n",
    "    Attributes\n",
    "    ----------\n",
    "    _board: list(list)\n",
    "        Represent the board with a 2d array _board[x][y]\n",
    "        where open spaces are 0 and closed spaces are 1\n",
    "    \n",
    "    _parity: bool\n",
    "        Keep track of active player initiative (which\n",
    "        player has control to move) where 0 indicates that\n",
    "        player one has initiative and 1 indicates player 2\n",
    "    \n",
    "    _player_locations: list(tuple)\n",
    "        Keep track of the current location of each player\n",
    "        on the board where position is encoded by the\n",
    "        board indices of their last move, e.g., [(0, 0), (1, 0)]\n",
    "        means player 1 is at (0, 0) and player 2 is at (1, 0)\n",
    "    \n",
    "    \"\"\"\n",
    "\n",
    "    def __init__(self):\n",
    "        self._board = [[0] * ylim for _ in range(xlim)]\n",
    "        self._board[-1][-1] = 1  # block lower-right corner\n",
    "        self._parity = 0\n",
    "        self._player_locations = [None, None]\n",
    "\n",
    "    def forecast_move(self, move):\n",
    "        \"\"\" Return a new board object with the specified move\n",
    "        applied to the current game state.\n",
    "        \n",
    "        Parameters\n",
    "        ----------\n",
    "        move: tuple\n",
    "            The target position for the active player's next move\n",
    "        \"\"\"\n",
    "        print(move)\n",
    "        if move not in self.get_legal_moves():\n",
    "            raise RuntimeError(\"Attempted forecast of illegal move\")\n",
    "        newBoard = copy.deepcopy(self)\n",
    "        newBoard._board[move[0]][move[1]] = 1\n",
    "        newBoard._player_locations[self._parity] = move\n",
    "        newBoard._parity ^= 1\n",
    "        return newBoard\n",
    "\n",
    "    def get_legal_moves(self):\n",
    "        \"\"\" Return a list of all legal moves available to the\n",
    "        active player.  Each player should get a list of all\n",
    "        empty spaces on the board on their first move, and\n",
    "        otherwise they should get a list of all open spaces\n",
    "        in a straight line along any row, column or diagonal\n",
    "        from their current position. (Players CANNOT move\n",
    "        through obstacles or blocked squares.)\n",
    "        \"\"\"\n",
    "        loc = self._player_locations[self._parity]\n",
    "        if not loc:\n",
    "            return self._get_blank_spaces()\n",
    "        moves = []\n",
    "        rays = [(1, 0), (1, -1), (0, -1), (-1, -1),\n",
    "                (-1, 0), (-1, 1), (0, 1), (1, 1)]\n",
    "        for dx, dy in rays:\n",
    "            _x, _y = loc\n",
    "            while 0 <= _x + dx < xlim and 0 <= _y + dy < ylim:\n",
    "                _x, _y = _x + dx, _y + dy\n",
    "                if self._board[_x][_y]:\n",
    "                    break\n",
    "                moves.append((_x, _y))\n",
    "        return moves\n",
    "\n",
    "    def _get_blank_spaces(self):\n",
    "        \"\"\" Return a list of blank spaces on the board.\"\"\"\n",
    "        return [(x, y) for y in range(ylim) for x in range(xlim)\n",
    "                if self._board[x][y] == 0]"
   ]
  },
  {
   "cell_type": "code",
   "execution_count": 143,
   "metadata": {},
   "outputs": [
    {
     "name": "stdout",
     "output_type": "stream",
     "text": [
      "Getting legal moves for player 2...\n",
      "[(0, 1), (1, 0), (1, 1), (2, 0)]\n"
     ]
    }
   ],
   "source": [
    "print(\"Getting legal moves for player 2...\")\n",
    "p2_empty_moves = g1.get_legal_moves()\n",
    "print(p2_empty_moves)"
   ]
  },
  {
   "cell_type": "code",
   "execution_count": 142,
   "metadata": {},
   "outputs": [
    {
     "name": "stdout",
     "output_type": "stream",
     "text": [
      "Everything looks good!\n"
     ]
    }
   ],
   "source": [
    "if (0, 0) in set(p2_empty_moves):\n",
    "    print(\"Failed\\n  Uh oh! (0, 0) was not blocked properly when \" +\n",
    "          \"player 1 moved there.\")\n",
    "else:\n",
    "    print(\"Everything looks good!\")"
   ]
  },
  {
   "cell_type": "code",
   "execution_count": null,
   "metadata": {},
   "outputs": [],
   "source": []
  }
 ],
 "metadata": {
  "kernelspec": {
   "display_name": "Python 3",
   "language": "python",
   "name": "python3"
  },
  "language_info": {
   "codemirror_mode": {
    "name": "ipython",
    "version": 3
   },
   "file_extension": ".py",
   "mimetype": "text/x-python",
   "name": "python",
   "nbconvert_exporter": "python",
   "pygments_lexer": "ipython3",
   "version": "3.7.1"
  }
 },
 "nbformat": 4,
 "nbformat_minor": 2
}
